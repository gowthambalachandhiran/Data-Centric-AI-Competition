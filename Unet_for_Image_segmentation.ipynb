{
  "nbformat": 4,
  "nbformat_minor": 0,
  "metadata": {
    "colab": {
      "name": "Unet for Image segmentation.ipynb",
      "provenance": [],
      "collapsed_sections": []
    },
    "kernelspec": {
      "name": "python3",
      "display_name": "Python 3"
    },
    "language_info": {
      "name": "python"
    },
    "accelerator": "GPU",
    "widgets": {
      "application/vnd.jupyter.widget-state+json": {
        "8629c90ed8b64787a1f8721868e70349": {
          "model_module": "@jupyter-widgets/controls",
          "model_name": "HBoxModel",
          "state": {
            "_view_name": "HBoxView",
            "_dom_classes": [],
            "_model_name": "HBoxModel",
            "_view_module": "@jupyter-widgets/controls",
            "_model_module_version": "1.5.0",
            "_view_count": null,
            "_view_module_version": "1.5.0",
            "box_style": "",
            "layout": "IPY_MODEL_86a3fd98312f4f74bdc369b5e5699b59",
            "_model_module": "@jupyter-widgets/controls",
            "children": [
              "IPY_MODEL_39e0bbe58c7b4a60804974aaa8499484",
              "IPY_MODEL_c3ab24a6fa304a11a25e3801d68aff1c"
            ]
          }
        },
        "86a3fd98312f4f74bdc369b5e5699b59": {
          "model_module": "@jupyter-widgets/base",
          "model_name": "LayoutModel",
          "state": {
            "_view_name": "LayoutView",
            "grid_template_rows": null,
            "right": null,
            "justify_content": null,
            "_view_module": "@jupyter-widgets/base",
            "overflow": null,
            "_model_module_version": "1.2.0",
            "_view_count": null,
            "flex_flow": null,
            "width": null,
            "min_width": null,
            "border": null,
            "align_items": null,
            "bottom": null,
            "_model_module": "@jupyter-widgets/base",
            "top": null,
            "grid_column": null,
            "overflow_y": null,
            "overflow_x": null,
            "grid_auto_flow": null,
            "grid_area": null,
            "grid_template_columns": null,
            "flex": null,
            "_model_name": "LayoutModel",
            "justify_items": null,
            "grid_row": null,
            "max_height": null,
            "align_content": null,
            "visibility": null,
            "align_self": null,
            "height": null,
            "min_height": null,
            "padding": null,
            "grid_auto_rows": null,
            "grid_gap": null,
            "max_width": null,
            "order": null,
            "_view_module_version": "1.2.0",
            "grid_template_areas": null,
            "object_position": null,
            "object_fit": null,
            "grid_auto_columns": null,
            "margin": null,
            "display": null,
            "left": null
          }
        },
        "39e0bbe58c7b4a60804974aaa8499484": {
          "model_module": "@jupyter-widgets/controls",
          "model_name": "FloatProgressModel",
          "state": {
            "_view_name": "ProgressView",
            "style": "IPY_MODEL_a9bfbd9b55f84357bb6113e62bd53236",
            "_dom_classes": [],
            "description": "100%",
            "_model_name": "FloatProgressModel",
            "bar_style": "success",
            "max": 1471,
            "_view_module": "@jupyter-widgets/controls",
            "_model_module_version": "1.5.0",
            "value": 1471,
            "_view_count": null,
            "_view_module_version": "1.5.0",
            "orientation": "horizontal",
            "min": 0,
            "description_tooltip": null,
            "_model_module": "@jupyter-widgets/controls",
            "layout": "IPY_MODEL_e87d093747d54dc8a2452cd30f30e128"
          }
        },
        "c3ab24a6fa304a11a25e3801d68aff1c": {
          "model_module": "@jupyter-widgets/controls",
          "model_name": "HTMLModel",
          "state": {
            "_view_name": "HTMLView",
            "style": "IPY_MODEL_bbb4734ced734ac992ccfccbcda7b155",
            "_dom_classes": [],
            "description": "",
            "_model_name": "HTMLModel",
            "placeholder": "​",
            "_view_module": "@jupyter-widgets/controls",
            "_model_module_version": "1.5.0",
            "value": " 1471/1471 [01:46&lt;00:00, 13.83it/s]",
            "_view_count": null,
            "_view_module_version": "1.5.0",
            "description_tooltip": null,
            "_model_module": "@jupyter-widgets/controls",
            "layout": "IPY_MODEL_292a1e2220964d3d8ea73bc5b15e719e"
          }
        },
        "a9bfbd9b55f84357bb6113e62bd53236": {
          "model_module": "@jupyter-widgets/controls",
          "model_name": "ProgressStyleModel",
          "state": {
            "_view_name": "StyleView",
            "_model_name": "ProgressStyleModel",
            "description_width": "initial",
            "_view_module": "@jupyter-widgets/base",
            "_model_module_version": "1.5.0",
            "_view_count": null,
            "_view_module_version": "1.2.0",
            "bar_color": null,
            "_model_module": "@jupyter-widgets/controls"
          }
        },
        "e87d093747d54dc8a2452cd30f30e128": {
          "model_module": "@jupyter-widgets/base",
          "model_name": "LayoutModel",
          "state": {
            "_view_name": "LayoutView",
            "grid_template_rows": null,
            "right": null,
            "justify_content": null,
            "_view_module": "@jupyter-widgets/base",
            "overflow": null,
            "_model_module_version": "1.2.0",
            "_view_count": null,
            "flex_flow": null,
            "width": null,
            "min_width": null,
            "border": null,
            "align_items": null,
            "bottom": null,
            "_model_module": "@jupyter-widgets/base",
            "top": null,
            "grid_column": null,
            "overflow_y": null,
            "overflow_x": null,
            "grid_auto_flow": null,
            "grid_area": null,
            "grid_template_columns": null,
            "flex": null,
            "_model_name": "LayoutModel",
            "justify_items": null,
            "grid_row": null,
            "max_height": null,
            "align_content": null,
            "visibility": null,
            "align_self": null,
            "height": null,
            "min_height": null,
            "padding": null,
            "grid_auto_rows": null,
            "grid_gap": null,
            "max_width": null,
            "order": null,
            "_view_module_version": "1.2.0",
            "grid_template_areas": null,
            "object_position": null,
            "object_fit": null,
            "grid_auto_columns": null,
            "margin": null,
            "display": null,
            "left": null
          }
        },
        "bbb4734ced734ac992ccfccbcda7b155": {
          "model_module": "@jupyter-widgets/controls",
          "model_name": "DescriptionStyleModel",
          "state": {
            "_view_name": "StyleView",
            "_model_name": "DescriptionStyleModel",
            "description_width": "",
            "_view_module": "@jupyter-widgets/base",
            "_model_module_version": "1.5.0",
            "_view_count": null,
            "_view_module_version": "1.2.0",
            "_model_module": "@jupyter-widgets/controls"
          }
        },
        "292a1e2220964d3d8ea73bc5b15e719e": {
          "model_module": "@jupyter-widgets/base",
          "model_name": "LayoutModel",
          "state": {
            "_view_name": "LayoutView",
            "grid_template_rows": null,
            "right": null,
            "justify_content": null,
            "_view_module": "@jupyter-widgets/base",
            "overflow": null,
            "_model_module_version": "1.2.0",
            "_view_count": null,
            "flex_flow": null,
            "width": null,
            "min_width": null,
            "border": null,
            "align_items": null,
            "bottom": null,
            "_model_module": "@jupyter-widgets/base",
            "top": null,
            "grid_column": null,
            "overflow_y": null,
            "overflow_x": null,
            "grid_auto_flow": null,
            "grid_area": null,
            "grid_template_columns": null,
            "flex": null,
            "_model_name": "LayoutModel",
            "justify_items": null,
            "grid_row": null,
            "max_height": null,
            "align_content": null,
            "visibility": null,
            "align_self": null,
            "height": null,
            "min_height": null,
            "padding": null,
            "grid_auto_rows": null,
            "grid_gap": null,
            "max_width": null,
            "order": null,
            "_view_module_version": "1.2.0",
            "grid_template_areas": null,
            "object_position": null,
            "object_fit": null,
            "grid_auto_columns": null,
            "margin": null,
            "display": null,
            "left": null
          }
        }
      }
    }
  },
  "cells": [
    {
      "cell_type": "code",
      "metadata": {
        "id": "S9pkKPUq1_FQ"
      },
      "source": [
        "import glob2\n",
        "all_image_files = glob2.glob('/content/trainImage/*.png')"
      ],
      "execution_count": 2,
      "outputs": []
    },
    {
      "cell_type": "code",
      "metadata": {
        "id": "vO7d9DBM9BuU"
      },
      "source": [
        "from pathlib import Path   "
      ],
      "execution_count": 3,
      "outputs": []
    },
    {
      "cell_type": "code",
      "metadata": {
        "id": "MdRlaKaL9l7p"
      },
      "source": [
        "from PIL import Image\n",
        "import PIL.ImageOps  "
      ],
      "execution_count": 4,
      "outputs": []
    },
    {
      "cell_type": "code",
      "metadata": {
        "id": "fC1yytOZ9CfJ"
      },
      "source": [
        "for files in all_image_files:\n",
        "  file_name = Path(files).name\n",
        "  image = Image.open(files)\n",
        "\n",
        "  inverted_image = PIL.ImageOps.invert(image)\n",
        "  inverted_image.save(\"/content/annotatedData\"+\"/\"+file_name)\n",
        "\n"
      ],
      "execution_count": 5,
      "outputs": []
    },
    {
      "cell_type": "code",
      "metadata": {
        "colab": {
          "base_uri": "https://localhost:8080/"
        },
        "id": "1yH9_ur69kwS",
        "outputId": "6138847e-8321-40cd-d6c1-5b5dbcd9cf0d"
      },
      "source": [
        "all_image_files = glob2.glob('/content/trainImage/*.png')\n",
        "annotated_data = glob2.glob('/content/annotatedData/*.png')\n",
        "print(len(all_image_files))\n",
        "print(len(annotated_data))"
      ],
      "execution_count": 6,
      "outputs": [
        {
          "output_type": "stream",
          "text": [
            "1471\n",
            "1471\n"
          ],
          "name": "stdout"
        }
      ]
    },
    {
      "cell_type": "code",
      "metadata": {
        "id": "dr0OmHv1-s7y"
      },
      "source": [
        "import os\n",
        "import random\n",
        "import pandas as pd\n",
        "import numpy as np\n",
        "import matplotlib.pyplot as plt\n",
        "plt.style.use(\"ggplot\")\n",
        "%matplotlib inline\n",
        "\n",
        "from tqdm import tqdm_notebook, tnrange\n",
        "from itertools import chain\n",
        "from skimage.io import imread, imshow, concatenate_images\n",
        "from skimage.transform import resize\n",
        "from skimage.morphology import label\n",
        "from sklearn.model_selection import train_test_split\n",
        "\n",
        "import tensorflow as tf\n",
        "\n",
        "from keras.models import Model, load_model\n",
        "from keras.layers import Input, BatchNormalization, Activation, Dense, Dropout\n",
        "from keras.layers.core import Lambda, RepeatVector, Reshape\n",
        "from keras.layers.convolutional import Conv2D, Conv2DTranspose\n",
        "from keras.layers.pooling import MaxPooling2D, GlobalMaxPool2D\n",
        "from keras.layers.merge import concatenate, add\n",
        "from keras.callbacks import EarlyStopping, ModelCheckpoint, ReduceLROnPlateau\n",
        "from keras.optimizers import Adam\n",
        "from keras.preprocessing.image import ImageDataGenerator, array_to_img, img_to_array, load_img"
      ],
      "execution_count": 7,
      "outputs": []
    },
    {
      "cell_type": "code",
      "metadata": {
        "id": "kkGuRaGTBIbR"
      },
      "source": [
        "# Set some parameters\n",
        "im_width = 32\n",
        "im_height = 32"
      ],
      "execution_count": 8,
      "outputs": []
    },
    {
      "cell_type": "code",
      "metadata": {
        "colab": {
          "base_uri": "https://localhost:8080/"
        },
        "id": "7TBgONjvBppX",
        "outputId": "04f61883-42b2-4b52-fd50-876c2e0fdc03"
      },
      "source": [
        "ids = next(os.walk(\"/content/annotatedData\"))[2] # list of names all images in the given path\n",
        "print(\"No. of images = \", len(ids))"
      ],
      "execution_count": 9,
      "outputs": [
        {
          "output_type": "stream",
          "text": [
            "No. of images =  1471\n"
          ],
          "name": "stdout"
        }
      ]
    },
    {
      "cell_type": "code",
      "metadata": {
        "id": "geKMtVxjBuYm"
      },
      "source": [
        "X = np.zeros((len(ids), im_height, im_width, 1), dtype=np.float32)\n",
        "y = np.zeros((len(ids), im_height, im_width, 1), dtype=np.float32)"
      ],
      "execution_count": 10,
      "outputs": []
    },
    {
      "cell_type": "markdown",
      "metadata": {
        "id": "NKmDgsaZud7y"
      },
      "source": [
        "##Load the images and masks into arrays¶"
      ]
    },
    {
      "cell_type": "code",
      "metadata": {
        "colab": {
          "base_uri": "https://localhost:8080/",
          "height": 151,
          "referenced_widgets": [
            "8629c90ed8b64787a1f8721868e70349",
            "86a3fd98312f4f74bdc369b5e5699b59",
            "39e0bbe58c7b4a60804974aaa8499484",
            "c3ab24a6fa304a11a25e3801d68aff1c",
            "a9bfbd9b55f84357bb6113e62bd53236",
            "e87d093747d54dc8a2452cd30f30e128",
            "bbb4734ced734ac992ccfccbcda7b155",
            "292a1e2220964d3d8ea73bc5b15e719e"
          ]
        },
        "id": "8ZHhcxv_uKDc",
        "outputId": "3f4c093e-6f4d-4f41-d77a-1536d5353103"
      },
      "source": [
        "# tqdm is used to display the progress bar\n",
        "for n, id_ in tqdm_notebook(enumerate(ids), total=len(ids)):\n",
        "    # Load images\n",
        "    img = load_img(\"/content/trainImage/\"+id_, grayscale=True)\n",
        "    x_img = img_to_array(img)\n",
        "    x_img = resize(x_img, (32, 32, 1), mode = 'constant', preserve_range = True)\n",
        "    # Load masks\n",
        "    mask = img_to_array(load_img(\"/content/annotatedData/\"+id_, grayscale=True))\n",
        "    mask = resize(mask, (32, 32, 1), mode = 'constant', preserve_range = True)\n",
        "    # Save images\n",
        "    X[n] = x_img/255.0\n",
        "    y[n] = mask/255.0"
      ],
      "execution_count": 12,
      "outputs": [
        {
          "output_type": "stream",
          "text": [
            "/usr/local/lib/python3.7/dist-packages/ipykernel_launcher.py:2: TqdmDeprecationWarning: This function will be removed in tqdm==5.0.0\n",
            "Please use `tqdm.notebook.tqdm` instead of `tqdm.tqdm_notebook`\n",
            "  \n"
          ],
          "name": "stderr"
        },
        {
          "output_type": "display_data",
          "data": {
            "application/vnd.jupyter.widget-view+json": {
              "model_id": "8629c90ed8b64787a1f8721868e70349",
              "version_minor": 0,
              "version_major": 2
            },
            "text/plain": [
              "HBox(children=(FloatProgress(value=0.0, max=1471.0), HTML(value='')))"
            ]
          },
          "metadata": {
            "tags": []
          }
        },
        {
          "output_type": "stream",
          "text": [
            "/usr/local/lib/python3.7/dist-packages/keras_preprocessing/image/utils.py:107: UserWarning: grayscale is deprecated. Please use color_mode = \"grayscale\"\n",
            "  warnings.warn('grayscale is deprecated. Please use '\n"
          ],
          "name": "stderr"
        },
        {
          "output_type": "stream",
          "text": [
            "\n"
          ],
          "name": "stdout"
        }
      ]
    },
    {
      "cell_type": "code",
      "metadata": {
        "id": "aSK_Yz3Ou5__"
      },
      "source": [
        "# Split train and valid\n",
        "X_train, X_valid, y_train, y_valid = train_test_split(X, y, test_size=0.1, random_state=42)"
      ],
      "execution_count": 16,
      "outputs": []
    },
    {
      "cell_type": "markdown",
      "metadata": {
        "id": "1YJUaBJYvEip"
      },
      "source": [
        "##Below code can be used to visualize the images and corresponding masks"
      ]
    },
    {
      "cell_type": "code",
      "metadata": {
        "colab": {
          "base_uri": "https://localhost:8080/",
          "height": 589
        },
        "id": "Mo5MG4v-u9YT",
        "outputId": "45f2a864-16aa-41ec-dfce-272595cdf290"
      },
      "source": [
        "# Visualize any randome image along with the mask\n",
        "ix = random.randint(0, len(X_train))\n",
        "has_mask = y_train[ix].max() > 0 # salt indicator\n",
        "\n",
        "fig, (ax1, ax2) = plt.subplots(1, 2, figsize = (20, 15))\n",
        "\n",
        "ax1.imshow(X_train[ix, ..., 0], cmap = 'gray', interpolation = 'bilinear')\n",
        "if has_mask: # if salt\n",
        "    # draw a boundary(contour) in the original image separating salt and non-salt areas\n",
        "    ax1.contour(y_train[ix].squeeze(), colors = 'k', linewidths = 5, levels = [0.5])\n",
        "ax1.set_title('Seismic')\n",
        "\n",
        "ax2.imshow(y_train[ix].squeeze(), cmap = 'gray', interpolation = 'bilinear')\n",
        "ax2.set_title('Salt')"
      ],
      "execution_count": 19,
      "outputs": [
        {
          "output_type": "execute_result",
          "data": {
            "text/plain": [
              "Text(0.5, 1.0, 'Salt')"
            ]
          },
          "metadata": {
            "tags": []
          },
          "execution_count": 19
        },
        {
          "output_type": "display_data",
          "data": {
            "image/png": "[encoded data removed]",
            "text/plain": [
              "<Figure size 1440x1080 with 2 Axes>"
            ]
          },
          "metadata": {
            "tags": [],
            "needs_background": "light"
          }
        }
      ]
    },
    {
      "cell_type": "code",
      "metadata": {
        "id": "GvDEAdssvSlL"
      },
      "source": [
        "def conv2d_block(input_tensor, n_filters, kernel_size = 3, batchnorm = True):\n",
        "    \"\"\"Function to add 2 convolutional layers with the parameters passed to it\"\"\"\n",
        "    # first layer\n",
        "    x = Conv2D(filters = n_filters, kernel_size = (kernel_size, kernel_size),\\\n",
        "              kernel_initializer = 'he_normal', padding = 'same')(input_tensor)\n",
        "    if batchnorm:\n",
        "        x = BatchNormalization()(x)\n",
        "    x = Activation('relu')(x)\n",
        "    \n",
        "    # second layer\n",
        "    x = Conv2D(filters = n_filters, kernel_size = (kernel_size, kernel_size),\\\n",
        "              kernel_initializer = 'he_normal', padding = 'same')(input_tensor)\n",
        "    if batchnorm:\n",
        "        x = BatchNormalization()(x)\n",
        "    x = Activation('relu')(x)\n",
        "    \n",
        "    return x"
      ],
      "execution_count": 20,
      "outputs": []
    },
    {
      "cell_type": "code",
      "metadata": {
        "id": "DyZ5c7DJvmIC"
      },
      "source": [
        "def get_unet(input_img, n_filters = 16, dropout = 0.1, batchnorm = True):\n",
        "    \"\"\"Function to define the UNET Model\"\"\"\n",
        "    # Contracting Path\n",
        "    c1 = conv2d_block(input_img, n_filters * 1, kernel_size = 3, batchnorm = batchnorm)\n",
        "    p1 = MaxPooling2D((2, 2))(c1)\n",
        "    p1 = Dropout(dropout)(p1)\n",
        "    \n",
        "    c2 = conv2d_block(p1, n_filters * 2, kernel_size = 3, batchnorm = batchnorm)\n",
        "    p2 = MaxPooling2D((2, 2))(c2)\n",
        "    p2 = Dropout(dropout)(p2)\n",
        "    \n",
        "    c3 = conv2d_block(p2, n_filters * 4, kernel_size = 3, batchnorm = batchnorm)\n",
        "    p3 = MaxPooling2D((2, 2))(c3)\n",
        "    p3 = Dropout(dropout)(p3)\n",
        "    \n",
        "    c4 = conv2d_block(p3, n_filters * 8, kernel_size = 3, batchnorm = batchnorm)\n",
        "    p4 = MaxPooling2D((2, 2))(c4)\n",
        "    p4 = Dropout(dropout)(p4)\n",
        "    \n",
        "    c5 = conv2d_block(p4, n_filters = n_filters * 16, kernel_size = 3, batchnorm = batchnorm)\n",
        "    \n",
        "    # Expansive Path\n",
        "    u6 = Conv2DTranspose(n_filters * 8, (3, 3), strides = (2, 2), padding = 'same')(c5)\n",
        "    u6 = concatenate([u6, c4])\n",
        "    u6 = Dropout(dropout)(u6)\n",
        "    c6 = conv2d_block(u6, n_filters * 8, kernel_size = 3, batchnorm = batchnorm)\n",
        "    \n",
        "    u7 = Conv2DTranspose(n_filters * 4, (3, 3), strides = (2, 2), padding = 'same')(c6)\n",
        "    u7 = concatenate([u7, c3])\n",
        "    u7 = Dropout(dropout)(u7)\n",
        "    c7 = conv2d_block(u7, n_filters * 4, kernel_size = 3, batchnorm = batchnorm)\n",
        "    \n",
        "    u8 = Conv2DTranspose(n_filters * 2, (3, 3), strides = (2, 2), padding = 'same')(c7)\n",
        "    u8 = concatenate([u8, c2])\n",
        "    u8 = Dropout(dropout)(u8)\n",
        "    c8 = conv2d_block(u8, n_filters * 2, kernel_size = 3, batchnorm = batchnorm)\n",
        "    \n",
        "    u9 = Conv2DTranspose(n_filters * 1, (3, 3), strides = (2, 2), padding = 'same')(c8)\n",
        "    u9 = concatenate([u9, c1])\n",
        "    u9 = Dropout(dropout)(u9)\n",
        "    c9 = conv2d_block(u9, n_filters * 1, kernel_size = 3, batchnorm = batchnorm)\n",
        "    \n",
        "    outputs = Conv2D(1, (1, 1), activation='sigmoid')(c9)\n",
        "    model = Model(inputs=[input_img], outputs=[outputs])\n",
        "    return model"
      ],
      "execution_count": 21,
      "outputs": []
    },
    {
      "cell_type": "code",
      "metadata": {
        "id": "Fx35ypPovufs"
      },
      "source": [
        "input_img = Input((im_height, im_width, 1), name='img')\n",
        "model = get_unet(input_img, n_filters=16, dropout=0.05, batchnorm=True)\n",
        "model.compile(optimizer=Adam(), loss=\"binary_crossentropy\", metrics=[\"accuracy\"])"
      ],
      "execution_count": 22,
      "outputs": []
    },
    {
      "cell_type": "code",
      "metadata": {
        "colab": {
          "base_uri": "https://localhost:8080/"
        },
        "id": "0G5LkK3Fvz3C",
        "outputId": "ee2d45af-57a3-49c6-b25d-1c4d316f1f65"
      },
      "source": [
        "\n",
        "model.summary()"
      ],
      "execution_count": 23,
      "outputs": [
        {
          "output_type": "stream",
          "text": [
            "Model: \"model\"\n",
            "__________________________________________________________________________________________________\n",
            "Layer (type)                    Output Shape         Param #     Connected to                     \n",
            "==================================================================================================\n",
            "img (InputLayer)                [(None, 32, 32, 1)]  0                                            \n",
            "__________________________________________________________________________________________________\n",
            "conv2d_1 (Conv2D)               (None, 32, 32, 16)   160         img[0][0]                        \n",
            "__________________________________________________________________________________________________\n",
            "batch_normalization_1 (BatchNor (None, 32, 32, 16)   64          conv2d_1[0][0]                   \n",
            "__________________________________________________________________________________________________\n",
            "activation_1 (Activation)       (None, 32, 32, 16)   0           batch_normalization_1[0][0]      \n",
            "__________________________________________________________________________________________________\n",
            "max_pooling2d (MaxPooling2D)    (None, 16, 16, 16)   0           activation_1[0][0]               \n",
            "__________________________________________________________________________________________________\n",
            "dropout (Dropout)               (None, 16, 16, 16)   0           max_pooling2d[0][0]              \n",
            "__________________________________________________________________________________________________\n",
            "conv2d_3 (Conv2D)               (None, 16, 16, 32)   4640        dropout[0][0]                    \n",
            "__________________________________________________________________________________________________\n",
            "batch_normalization_3 (BatchNor (None, 16, 16, 32)   128         conv2d_3[0][0]                   \n",
            "__________________________________________________________________________________________________\n",
            "activation_3 (Activation)       (None, 16, 16, 32)   0           batch_normalization_3[0][0]      \n",
            "__________________________________________________________________________________________________\n",
            "max_pooling2d_1 (MaxPooling2D)  (None, 8, 8, 32)     0           activation_3[0][0]               \n",
            "__________________________________________________________________________________________________\n",
            "dropout_1 (Dropout)             (None, 8, 8, 32)     0           max_pooling2d_1[0][0]            \n",
            "__________________________________________________________________________________________________\n",
            "conv2d_5 (Conv2D)               (None, 8, 8, 64)     18496       dropout_1[0][0]                  \n",
            "__________________________________________________________________________________________________\n",
            "batch_normalization_5 (BatchNor (None, 8, 8, 64)     256         conv2d_5[0][0]                   \n",
            "__________________________________________________________________________________________________\n",
            "activation_5 (Activation)       (None, 8, 8, 64)     0           batch_normalization_5[0][0]      \n",
            "__________________________________________________________________________________________________\n",
            "max_pooling2d_2 (MaxPooling2D)  (None, 4, 4, 64)     0           activation_5[0][0]               \n",
            "__________________________________________________________________________________________________\n",
            "dropout_2 (Dropout)             (None, 4, 4, 64)     0           max_pooling2d_2[0][0]            \n",
            "__________________________________________________________________________________________________\n",
            "conv2d_7 (Conv2D)               (None, 4, 4, 128)    73856       dropout_2[0][0]                  \n",
            "__________________________________________________________________________________________________\n",
            "batch_normalization_7 (BatchNor (None, 4, 4, 128)    512         conv2d_7[0][0]                   \n",
            "__________________________________________________________________________________________________\n",
            "activation_7 (Activation)       (None, 4, 4, 128)    0           batch_normalization_7[0][0]      \n",
            "__________________________________________________________________________________________________\n",
            "max_pooling2d_3 (MaxPooling2D)  (None, 2, 2, 128)    0           activation_7[0][0]               \n",
            "__________________________________________________________________________________________________\n",
            "dropout_3 (Dropout)             (None, 2, 2, 128)    0           max_pooling2d_3[0][0]            \n",
            "__________________________________________________________________________________________________\n",
            "conv2d_9 (Conv2D)               (None, 2, 2, 256)    295168      dropout_3[0][0]                  \n",
            "__________________________________________________________________________________________________\n",
            "batch_normalization_9 (BatchNor (None, 2, 2, 256)    1024        conv2d_9[0][0]                   \n",
            "__________________________________________________________________________________________________\n",
            "activation_9 (Activation)       (None, 2, 2, 256)    0           batch_normalization_9[0][0]      \n",
            "__________________________________________________________________________________________________\n",
            "conv2d_transpose (Conv2DTranspo (None, 4, 4, 128)    295040      activation_9[0][0]               \n",
            "__________________________________________________________________________________________________\n",
            "concatenate (Concatenate)       (None, 4, 4, 256)    0           conv2d_transpose[0][0]           \n",
            "                                                                 activation_7[0][0]               \n",
            "__________________________________________________________________________________________________\n",
            "dropout_4 (Dropout)             (None, 4, 4, 256)    0           concatenate[0][0]                \n",
            "__________________________________________________________________________________________________\n",
            "conv2d_11 (Conv2D)              (None, 4, 4, 128)    295040      dropout_4[0][0]                  \n",
            "__________________________________________________________________________________________________\n",
            "batch_normalization_11 (BatchNo (None, 4, 4, 128)    512         conv2d_11[0][0]                  \n",
            "__________________________________________________________________________________________________\n",
            "activation_11 (Activation)      (None, 4, 4, 128)    0           batch_normalization_11[0][0]     \n",
            "__________________________________________________________________________________________________\n",
            "conv2d_transpose_1 (Conv2DTrans (None, 8, 8, 64)     73792       activation_11[0][0]              \n",
            "__________________________________________________________________________________________________\n",
            "concatenate_1 (Concatenate)     (None, 8, 8, 128)    0           conv2d_transpose_1[0][0]         \n",
            "                                                                 activation_5[0][0]               \n",
            "__________________________________________________________________________________________________\n",
            "dropout_5 (Dropout)             (None, 8, 8, 128)    0           concatenate_1[0][0]              \n",
            "__________________________________________________________________________________________________\n",
            "conv2d_13 (Conv2D)              (None, 8, 8, 64)     73792       dropout_5[0][0]                  \n",
            "__________________________________________________________________________________________________\n",
            "batch_normalization_13 (BatchNo (None, 8, 8, 64)     256         conv2d_13[0][0]                  \n",
            "__________________________________________________________________________________________________\n",
            "activation_13 (Activation)      (None, 8, 8, 64)     0           batch_normalization_13[0][0]     \n",
            "__________________________________________________________________________________________________\n",
            "conv2d_transpose_2 (Conv2DTrans (None, 16, 16, 32)   18464       activation_13[0][0]              \n",
            "__________________________________________________________________________________________________\n",
            "concatenate_2 (Concatenate)     (None, 16, 16, 64)   0           conv2d_transpose_2[0][0]         \n",
            "                                                                 activation_3[0][0]               \n",
            "__________________________________________________________________________________________________\n",
            "dropout_6 (Dropout)             (None, 16, 16, 64)   0           concatenate_2[0][0]              \n",
            "__________________________________________________________________________________________________\n",
            "conv2d_15 (Conv2D)              (None, 16, 16, 32)   18464       dropout_6[0][0]                  \n",
            "__________________________________________________________________________________________________\n",
            "batch_normalization_15 (BatchNo (None, 16, 16, 32)   128         conv2d_15[0][0]                  \n",
            "__________________________________________________________________________________________________\n",
            "activation_15 (Activation)      (None, 16, 16, 32)   0           batch_normalization_15[0][0]     \n",
            "__________________________________________________________________________________________________\n",
            "conv2d_transpose_3 (Conv2DTrans (None, 32, 32, 16)   4624        activation_15[0][0]              \n",
            "__________________________________________________________________________________________________\n",
            "concatenate_3 (Concatenate)     (None, 32, 32, 32)   0           conv2d_transpose_3[0][0]         \n",
            "                                                                 activation_1[0][0]               \n",
            "__________________________________________________________________________________________________\n",
            "dropout_7 (Dropout)             (None, 32, 32, 32)   0           concatenate_3[0][0]              \n",
            "__________________________________________________________________________________________________\n",
            "conv2d_17 (Conv2D)              (None, 32, 32, 16)   4624        dropout_7[0][0]                  \n",
            "__________________________________________________________________________________________________\n",
            "batch_normalization_17 (BatchNo (None, 32, 32, 16)   64          conv2d_17[0][0]                  \n",
            "__________________________________________________________________________________________________\n",
            "activation_17 (Activation)      (None, 32, 32, 16)   0           batch_normalization_17[0][0]     \n",
            "__________________________________________________________________________________________________\n",
            "conv2d_18 (Conv2D)              (None, 32, 32, 1)    17          activation_17[0][0]              \n",
            "==================================================================================================\n",
            "Total params: 1,179,121\n",
            "Trainable params: 1,177,649\n",
            "Non-trainable params: 1,472\n",
            "__________________________________________________________________________________________________\n"
          ],
          "name": "stdout"
        }
      ]
    },
    {
      "cell_type": "code",
      "metadata": {
        "id": "W0xL7RhbwA8y"
      },
      "source": [
        "\n",
        "callbacks = [\n",
        "    EarlyStopping(patience=10, verbose=1),\n",
        "    ReduceLROnPlateau(factor=0.1, patience=5, min_lr=0.00001, verbose=1),\n",
        "    ModelCheckpoint('model-tgs-salt.h5', verbose=1, save_best_only=True, save_weights_only=True)\n",
        "]"
      ],
      "execution_count": 24,
      "outputs": []
    },
    {
      "cell_type": "code",
      "metadata": {
        "colab": {
          "base_uri": "https://localhost:8080/"
        },
        "id": "E5V4SCIWwDta",
        "outputId": "79e47b58-b57a-481c-b477-0ba9457eb29e"
      },
      "source": [
        "results = model.fit(X_train, y_train, batch_size=32, epochs=200, callbacks=callbacks,\\\n",
        "                    validation_data=(X_valid, y_valid))"
      ],
      "execution_count": 26,
      "outputs": [
        {
          "output_type": "stream",
          "text": [
            "Epoch 1/200\n",
            "42/42 [==============================] - 1s 16ms/step - loss: 0.0811 - accuracy: 0.7095 - val_loss: 0.0817 - val_accuracy: 0.7054\n",
            "\n",
            "Epoch 00001: val_loss improved from 0.08192 to 0.08172, saving model to model-tgs-salt.h5\n",
            "Epoch 2/200\n",
            "42/42 [==============================] - 0s 10ms/step - loss: 0.0810 - accuracy: 0.7095 - val_loss: 0.0817 - val_accuracy: 0.7054\n",
            "\n",
            "Epoch 00002: val_loss improved from 0.08172 to 0.08172, saving model to model-tgs-salt.h5\n",
            "Epoch 3/200\n",
            "42/42 [==============================] - 0s 10ms/step - loss: 0.0808 - accuracy: 0.7095 - val_loss: 0.0815 - val_accuracy: 0.7054\n",
            "\n",
            "Epoch 00003: val_loss improved from 0.08172 to 0.08152, saving model to model-tgs-salt.h5\n",
            "Epoch 4/200\n",
            "42/42 [==============================] - 0s 9ms/step - loss: 0.0807 - accuracy: 0.7095 - val_loss: 0.0814 - val_accuracy: 0.7054\n",
            "\n",
            "Epoch 00004: val_loss improved from 0.08152 to 0.08144, saving model to model-tgs-salt.h5\n",
            "Epoch 5/200\n",
            "42/42 [==============================] - 0s 10ms/step - loss: 0.0806 - accuracy: 0.7095 - val_loss: 0.0813 - val_accuracy: 0.7054\n",
            "\n",
            "Epoch 00005: val_loss improved from 0.08144 to 0.08126, saving model to model-tgs-salt.h5\n",
            "Epoch 6/200\n",
            "42/42 [==============================] - 0s 10ms/step - loss: 0.0805 - accuracy: 0.7095 - val_loss: 0.0812 - val_accuracy: 0.7054\n",
            "\n",
            "Epoch 00006: val_loss improved from 0.08126 to 0.08121, saving model to model-tgs-salt.h5\n",
            "Epoch 7/200\n",
            "42/42 [==============================] - 0s 10ms/step - loss: 0.0804 - accuracy: 0.7095 - val_loss: 0.0811 - val_accuracy: 0.7054\n",
            "\n",
            "Epoch 00007: val_loss improved from 0.08121 to 0.08114, saving model to model-tgs-salt.h5\n",
            "Epoch 8/200\n",
            "42/42 [==============================] - 0s 10ms/step - loss: 0.0802 - accuracy: 0.7095 - val_loss: 0.0811 - val_accuracy: 0.7054\n",
            "\n",
            "Epoch 00008: val_loss improved from 0.08114 to 0.08110, saving model to model-tgs-salt.h5\n",
            "Epoch 9/200\n",
            "42/42 [==============================] - 0s 10ms/step - loss: 0.0801 - accuracy: 0.7095 - val_loss: 0.0810 - val_accuracy: 0.7054\n",
            "\n",
            "Epoch 00009: val_loss improved from 0.08110 to 0.08101, saving model to model-tgs-salt.h5\n",
            "Epoch 10/200\n",
            "42/42 [==============================] - 0s 10ms/step - loss: 0.0801 - accuracy: 0.7095 - val_loss: 0.0810 - val_accuracy: 0.7054\n",
            "\n",
            "Epoch 00010: val_loss improved from 0.08101 to 0.08097, saving model to model-tgs-salt.h5\n",
            "Epoch 11/200\n",
            "42/42 [==============================] - 0s 10ms/step - loss: 0.0800 - accuracy: 0.7095 - val_loss: 0.0809 - val_accuracy: 0.7054\n",
            "\n",
            "Epoch 00011: val_loss improved from 0.08097 to 0.08087, saving model to model-tgs-salt.h5\n",
            "Epoch 12/200\n",
            "42/42 [==============================] - 0s 11ms/step - loss: 0.0799 - accuracy: 0.7095 - val_loss: 0.0808 - val_accuracy: 0.7054\n",
            "\n",
            "Epoch 00012: val_loss improved from 0.08087 to 0.08080, saving model to model-tgs-salt.h5\n",
            "Epoch 13/200\n",
            "42/42 [==============================] - 0s 10ms/step - loss: 0.0798 - accuracy: 0.7095 - val_loss: 0.0807 - val_accuracy: 0.7054\n",
            "\n",
            "Epoch 00013: val_loss improved from 0.08080 to 0.08072, saving model to model-tgs-salt.h5\n",
            "Epoch 14/200\n",
            "42/42 [==============================] - 0s 10ms/step - loss: 0.0797 - accuracy: 0.7095 - val_loss: 0.0807 - val_accuracy: 0.7054\n",
            "\n",
            "Epoch 00014: val_loss did not improve from 0.08072\n",
            "Epoch 15/200\n",
            "42/42 [==============================] - 0s 10ms/step - loss: 0.0797 - accuracy: 0.7095 - val_loss: 0.0806 - val_accuracy: 0.7054\n",
            "\n",
            "Epoch 00015: val_loss improved from 0.08072 to 0.08063, saving model to model-tgs-salt.h5\n",
            "Epoch 16/200\n",
            "42/42 [==============================] - 0s 10ms/step - loss: 0.0796 - accuracy: 0.7095 - val_loss: 0.0806 - val_accuracy: 0.7054\n",
            "\n",
            "Epoch 00016: val_loss improved from 0.08063 to 0.08063, saving model to model-tgs-salt.h5\n",
            "Epoch 17/200\n",
            "42/42 [==============================] - 0s 10ms/step - loss: 0.0795 - accuracy: 0.7095 - val_loss: 0.0806 - val_accuracy: 0.7054\n",
            "\n",
            "Epoch 00017: val_loss improved from 0.08063 to 0.08056, saving model to model-tgs-salt.h5\n",
            "Epoch 18/200\n",
            "42/42 [==============================] - 0s 10ms/step - loss: 0.0795 - accuracy: 0.7095 - val_loss: 0.0805 - val_accuracy: 0.7054\n",
            "\n",
            "Epoch 00018: val_loss improved from 0.08056 to 0.08052, saving model to model-tgs-salt.h5\n",
            "Epoch 19/200\n",
            "42/42 [==============================] - 0s 10ms/step - loss: 0.0794 - accuracy: 0.7095 - val_loss: 0.0805 - val_accuracy: 0.7054\n",
            "\n",
            "Epoch 00019: val_loss improved from 0.08052 to 0.08049, saving model to model-tgs-salt.h5\n",
            "Epoch 20/200\n",
            "42/42 [==============================] - 0s 9ms/step - loss: 0.0794 - accuracy: 0.7095 - val_loss: 0.0804 - val_accuracy: 0.7054\n",
            "\n",
            "Epoch 00020: val_loss improved from 0.08049 to 0.08043, saving model to model-tgs-salt.h5\n",
            "Epoch 21/200\n",
            "42/42 [==============================] - 0s 9ms/step - loss: 0.0793 - accuracy: 0.7095 - val_loss: 0.0804 - val_accuracy: 0.7054\n",
            "\n",
            "Epoch 00021: val_loss improved from 0.08043 to 0.08037, saving model to model-tgs-salt.h5\n",
            "Epoch 22/200\n",
            "42/42 [==============================] - 0s 9ms/step - loss: 0.0793 - accuracy: 0.7095 - val_loss: 0.0803 - val_accuracy: 0.7054\n",
            "\n",
            "Epoch 00022: val_loss improved from 0.08037 to 0.08031, saving model to model-tgs-salt.h5\n",
            "Epoch 23/200\n",
            "42/42 [==============================] - 0s 10ms/step - loss: 0.0792 - accuracy: 0.7095 - val_loss: 0.0803 - val_accuracy: 0.7054\n",
            "\n",
            "Epoch 00023: val_loss did not improve from 0.08031\n",
            "Epoch 24/200\n",
            "42/42 [==============================] - 0s 10ms/step - loss: 0.0792 - accuracy: 0.7095 - val_loss: 0.0803 - val_accuracy: 0.7054\n",
            "\n",
            "Epoch 00024: val_loss improved from 0.08031 to 0.08026, saving model to model-tgs-salt.h5\n",
            "Epoch 25/200\n",
            "42/42 [==============================] - 0s 11ms/step - loss: 0.0791 - accuracy: 0.7095 - val_loss: 0.0803 - val_accuracy: 0.7054\n",
            "\n",
            "Epoch 00025: val_loss improved from 0.08026 to 0.08025, saving model to model-tgs-salt.h5\n",
            "Epoch 26/200\n",
            "42/42 [==============================] - 0s 9ms/step - loss: 0.0791 - accuracy: 0.7095 - val_loss: 0.0802 - val_accuracy: 0.7054\n",
            "\n",
            "Epoch 00026: val_loss improved from 0.08025 to 0.08023, saving model to model-tgs-salt.h5\n",
            "Epoch 27/200\n",
            "42/42 [==============================] - 0s 10ms/step - loss: 0.0790 - accuracy: 0.7095 - val_loss: 0.0802 - val_accuracy: 0.7054\n",
            "\n",
            "Epoch 00027: ReduceLROnPlateau reducing learning rate to 0.00010000000474974513.\n",
            "\n",
            "Epoch 00027: val_loss did not improve from 0.08023\n",
            "Epoch 28/200\n",
            "42/42 [==============================] - 0s 10ms/step - loss: 0.0790 - accuracy: 0.7095 - val_loss: 0.0802 - val_accuracy: 0.7054\n",
            "\n",
            "Epoch 00028: val_loss did not improve from 0.08023\n",
            "Epoch 29/200\n",
            "42/42 [==============================] - 0s 10ms/step - loss: 0.0790 - accuracy: 0.7095 - val_loss: 0.0802 - val_accuracy: 0.7054\n",
            "\n",
            "Epoch 00029: val_loss did not improve from 0.08023\n",
            "Epoch 30/200\n",
            "42/42 [==============================] - 0s 10ms/step - loss: 0.0790 - accuracy: 0.7095 - val_loss: 0.0803 - val_accuracy: 0.7054\n",
            "\n",
            "Epoch 00030: val_loss did not improve from 0.08023\n",
            "Epoch 31/200\n",
            "42/42 [==============================] - 0s 9ms/step - loss: 0.0790 - accuracy: 0.7095 - val_loss: 0.0803 - val_accuracy: 0.7054\n",
            "\n",
            "Epoch 00031: val_loss did not improve from 0.08023\n",
            "Epoch 32/200\n",
            "42/42 [==============================] - 0s 10ms/step - loss: 0.0790 - accuracy: 0.7095 - val_loss: 0.0803 - val_accuracy: 0.7054\n",
            "\n",
            "Epoch 00032: ReduceLROnPlateau reducing learning rate to 1.0000000474974514e-05.\n",
            "\n",
            "Epoch 00032: val_loss did not improve from 0.08023\n",
            "Epoch 33/200\n",
            "42/42 [==============================] - 0s 11ms/step - loss: 0.0790 - accuracy: 0.7095 - val_loss: 0.0803 - val_accuracy: 0.7054\n",
            "\n",
            "Epoch 00033: val_loss did not improve from 0.08023\n",
            "Epoch 34/200\n",
            "42/42 [==============================] - 0s 10ms/step - loss: 0.0790 - accuracy: 0.7095 - val_loss: 0.0803 - val_accuracy: 0.7054\n",
            "\n",
            "Epoch 00034: val_loss did not improve from 0.08023\n",
            "Epoch 35/200\n",
            "42/42 [==============================] - 0s 10ms/step - loss: 0.0790 - accuracy: 0.7095 - val_loss: 0.0803 - val_accuracy: 0.7054\n",
            "\n",
            "Epoch 00035: val_loss did not improve from 0.08023\n",
            "Epoch 36/200\n",
            "42/42 [==============================] - 0s 10ms/step - loss: 0.0790 - accuracy: 0.7095 - val_loss: 0.0803 - val_accuracy: 0.7054\n",
            "\n",
            "Epoch 00036: val_loss did not improve from 0.08023\n",
            "Epoch 00036: early stopping\n"
          ],
          "name": "stdout"
        }
      ]
    },
    {
      "cell_type": "code",
      "metadata": {
        "colab": {
          "base_uri": "https://localhost:8080/",
          "height": 517
        },
        "id": "YrtqoREUwiKB",
        "outputId": "db08d82e-d461-4267-bd2b-1a996b1c357c"
      },
      "source": [
        "\n",
        "plt.figure(figsize=(8, 8))\n",
        "plt.title(\"Learning curve\")\n",
        "plt.plot(results.history[\"loss\"], label=\"loss\")\n",
        "plt.plot(results.history[\"val_loss\"], label=\"val_loss\")\n",
        "plt.plot( np.argmin(results.history[\"val_loss\"]), np.min(results.history[\"val_loss\"]), marker=\"x\", color=\"r\", label=\"best model\")\n",
        "plt.xlabel(\"Epochs\")\n",
        "plt.ylabel(\"log_loss\")\n",
        "plt.legend();"
      ],
      "execution_count": 27,
      "outputs": [
        {
          "output_type": "display_data",
          "data": {
            "image/png": "[encoded data removed]",
            "text/plain": [
              "<Figure size 576x576 with 1 Axes>"
            ]
          },
          "metadata": {
            "tags": [],
            "needs_background": "light"
          }
        }
      ]
    },
    {
      "cell_type": "code",
      "metadata": {
        "id": "cmfrVajGwl9B"
      },
      "source": [
        "# load the best model\n",
        "model.load_weights('model-tgs-salt.h5')"
      ],
      "execution_count": 28,
      "outputs": []
    },
    {
      "cell_type": "code",
      "metadata": {
        "colab": {
          "base_uri": "https://localhost:8080/"
        },
        "id": "QfevhLo2xCG6",
        "outputId": "3964c692-62fc-4037-c0e5-7b9fe0566b15"
      },
      "source": [
        "# Evaluate on validation set (this must be equals to the best log_loss)\n",
        "model.evaluate(X_valid, y_valid, verbose=1)"
      ],
      "execution_count": 29,
      "outputs": [
        {
          "output_type": "stream",
          "text": [
            "5/5 [==============================] - 0s 6ms/step - loss: 0.0802 - accuracy: 0.7054\n"
          ],
          "name": "stdout"
        },
        {
          "output_type": "execute_result",
          "data": {
            "text/plain": [
              "[0.08022958785295486, 0.7053948640823364]"
            ]
          },
          "metadata": {
            "tags": []
          },
          "execution_count": 29
        }
      ]
    },
    {
      "cell_type": "code",
      "metadata": {
        "colab": {
          "base_uri": "https://localhost:8080/"
        },
        "id": "RIEgZjf9zxnw",
        "outputId": "b4eafe55-0b1a-416d-e863-7b1d5ccaea46"
      },
      "source": [
        "X_train.shape"
      ],
      "execution_count": 47,
      "outputs": [
        {
          "output_type": "execute_result",
          "data": {
            "text/plain": [
              "(1323, 32, 32, 1)"
            ]
          },
          "metadata": {
            "tags": []
          },
          "execution_count": 47
        }
      ]
    },
    {
      "cell_type": "code",
      "metadata": {
        "colab": {
          "base_uri": "https://localhost:8080/"
        },
        "id": "BeumjAQxxFsK",
        "outputId": "03a87082-224b-45e1-fea3-0bc29a1845c2"
      },
      "source": [
        "# Predict on train, val and test\n",
        "preds_train = model.predict(X_train, verbose=1)\n",
        "preds_val = model.predict(X_valid, verbose=1)"
      ],
      "execution_count": 30,
      "outputs": [
        {
          "output_type": "stream",
          "text": [
            "42/42 [==============================] - 1s 4ms/step\n",
            "5/5 [==============================] - 0s 4ms/step\n"
          ],
          "name": "stdout"
        }
      ]
    },
    {
      "cell_type": "code",
      "metadata": {
        "id": "335dOXVCxSnj"
      },
      "source": [
        "# Threshold predictions\n",
        "preds_train_t = (preds_train > 0.5).astype(np.uint8)\n",
        "preds_val_t = (preds_val > 0.5).astype(np.uint8)"
      ],
      "execution_count": 31,
      "outputs": []
    },
    {
      "cell_type": "code",
      "metadata": {
        "id": "3NIxaH69xZha"
      },
      "source": [
        "def plot_sample(X, y, preds, binary_preds, ix=None):\n",
        "    \"\"\"Function to plot the results\"\"\"\n",
        "    if ix is None:\n",
        "        ix = random.randint(0, len(X))\n",
        "\n",
        "    has_mask = y[ix].max() > 0\n",
        "\n",
        "    fig, ax = plt.subplots(1, 4, figsize=(20, 10))\n",
        "    ax[0].imshow(X[ix, ..., 0], cmap='gray')\n",
        "    if has_mask:\n",
        "        ax[0].contour(y[ix].squeeze(), colors='k', levels=[0.5])\n",
        "    ax[0].set_title('Original Roman')\n",
        "\n",
        "    ax[1].imshow(y[ix].squeeze(),cmap='gray')\n",
        "    ax[1].set_title('annotated Roman')\n",
        "\n",
        "    ax[2].imshow(preds[ix].squeeze(), vmin=0, vmax=1,cmap='gray')\n",
        "    if has_mask:\n",
        "        ax[2].contour(y[ix].squeeze(), colors='k', levels=[0.5])\n",
        "    ax[2].set_title('Predicted')\n",
        "    \n",
        "    ax[3].imshow(binary_preds[ix].squeeze(), vmin=0, vmax=1,cmap='gray')\n",
        "    if has_mask:\n",
        "        ax[3].contour(y[ix].squeeze(), colors='k', levels=[0.5])\n",
        "    ax[3].set_title('Predicted binary')"
      ],
      "execution_count": 57,
      "outputs": []
    },
    {
      "cell_type": "code",
      "metadata": {
        "colab": {
          "base_uri": "https://localhost:8080/",
          "height": 308
        },
        "id": "e_YOp_zaxcZZ",
        "outputId": "49bf27ad-6c96-4348-cc6b-20cee0944e37"
      },
      "source": [
        "# Check if training data looks all right\n",
        "plot_sample(X_train, y_train, preds_train, preds_train_t, ix=14)"
      ],
      "execution_count": 61,
      "outputs": [
        {
          "output_type": "display_data",
          "data": {
            "image/png": "[encoded data removed]",
            "text/plain": [
              "<Figure size 1440x720 with 4 Axes>"
            ]
          },
          "metadata": {
            "tags": [],
            "needs_background": "light"
          }
        }
      ]
    },
    {
      "cell_type": "code",
      "metadata": {
        "colab": {
          "base_uri": "https://localhost:8080/"
        },
        "id": "kcuiwPzbyLgh",
        "outputId": "9ade30a5-2697-411d-eb8c-43c8313cc8dc"
      },
      "source": [
        "#Random prediction\n",
        "X = np.zeros((1, im_height, im_width, 1), dtype=np.float32)\n",
        "img = load_img(\"/content/b13b027a-ce5d-11eb-b317-38f9d35ea60f.png\", grayscale=True)\n",
        "x_img = img_to_array(img)\n",
        "x_img = resize(x_img, (32, 32, 1), mode = 'constant', preserve_range = True)\n",
        "X[0] = x_img/255\n"
      ],
      "execution_count": 52,
      "outputs": [
        {
          "output_type": "stream",
          "text": [
            "/usr/local/lib/python3.7/dist-packages/keras_preprocessing/image/utils.py:107: UserWarning: grayscale is deprecated. Please use color_mode = \"grayscale\"\n",
            "  warnings.warn('grayscale is deprecated. Please use '\n"
          ],
          "name": "stderr"
        }
      ]
    },
    {
      "cell_type": "code",
      "metadata": {
        "colab": {
          "base_uri": "https://localhost:8080/"
        },
        "id": "UP2Wzt2dzLGC",
        "outputId": "5ed46711-17e1-440b-9a13-7fa4129f9ad0"
      },
      "source": [
        "X.shape"
      ],
      "execution_count": 53,
      "outputs": [
        {
          "output_type": "execute_result",
          "data": {
            "text/plain": [
              "(1, 32, 32, 1)"
            ]
          },
          "metadata": {
            "tags": []
          },
          "execution_count": 53
        }
      ]
    },
    {
      "cell_type": "code",
      "metadata": {
        "colab": {
          "base_uri": "https://localhost:8080/"
        },
        "id": "SydwP7Wazbj9",
        "outputId": "c8520fe1-2be5-4a14-ebf0-77f29bf84a84"
      },
      "source": [
        "random_prediction = model.predict(X, verbose=1)"
      ],
      "execution_count": 54,
      "outputs": [
        {
          "output_type": "stream",
          "text": [
            "1/1 [==============================] - 0s 221ms/step\n"
          ],
          "name": "stdout"
        }
      ]
    },
    {
      "cell_type": "code",
      "metadata": {
        "colab": {
          "base_uri": "https://localhost:8080/"
        },
        "id": "mMe8RqSl1Rfo",
        "outputId": "f5ac41c4-3a09-4feb-efb5-f26c1268c6ff"
      },
      "source": [
        "random_prediction.shape"
      ],
      "execution_count": 56,
      "outputs": [
        {
          "output_type": "execute_result",
          "data": {
            "text/plain": [
              "(1, 32, 32, 1)"
            ]
          },
          "metadata": {
            "tags": []
          },
          "execution_count": 56
        }
      ]
    },
    {
      "cell_type": "code",
      "metadata": {
        "id": "hwM2hgIy2c0R"
      },
      "source": [
        "random_prediction_t = (random_prediction > 0.5).astype(np.uint8)"
      ],
      "execution_count": 64,
      "outputs": []
    },
    {
      "cell_type": "code",
      "metadata": {
        "colab": {
          "base_uri": "https://localhost:8080/",
          "height": 258
        },
        "id": "st7hL4f31aWg",
        "outputId": "549c2d24-bbaa-4bf8-aa05-b2f84ccf1207"
      },
      "source": [
        "fig, ax = plt.subplots(1, 3, figsize=(32, 32))\n",
        "ax[0].imshow(X[0, ..., 0], cmap='gray')\n",
        "ax[0].set_title('Random Roman')\n",
        "\n",
        "ax[1].imshow(random_prediction[0, ..., 0].squeeze(),cmap='gray')\n",
        "ax[1].set_title('random_prediction')\n",
        "\n",
        "ax[2].imshow(random_prediction_t[0, ..., 0].squeeze(), vmin=0, vmax=1,cmap='gray')\n",
        "ax[2].contour(y[ix].squeeze(), colors='k', levels=[0.5])\n",
        "ax[2].set_title('random_prediction_t')\n"
      ],
      "execution_count": 74,
      "outputs": [
        {
          "output_type": "execute_result",
          "data": {
            "text/plain": [
              "Text(0.5, 1.0, 'random_prediction_t')"
            ]
          },
          "metadata": {
            "tags": []
          },
          "execution_count": 74
        },
        {
          "output_type": "display_data",
          "data": {
            "image/png": "[encoded data removed]",
            "text/plain": [
              "<Figure size 2304x2304 with 3 Axes>"
            ]
          },
          "metadata": {
            "tags": [],
            "needs_background": "light"
          }
        }
      ]
    },
    {
      "cell_type": "code",
      "metadata": {
        "id": "4joS8cOq1Zyn"
      },
      "source": [
        "import matplotlib\n",
        "\n",
        "matplotlib.image.imsave('random_prediction.png', random_prediction[0, ..., 0],cmap='gray')"
      ],
      "execution_count": 79,
      "outputs": []
    },
    {
      "cell_type": "code",
      "metadata": {
        "id": "DtyePx2n5wre"
      },
      "source": [
        "matplotlib.image.imsave('random_prediction_t.png', random_prediction_t[0, ..., 0],cmap='gray')"
      ],
      "execution_count": 80,
      "outputs": []
    },
    {
      "cell_type": "code",
      "metadata": {
        "id": "6Ln28uqb6VZu"
      },
      "source": [
        "image = Image.open('/content/random_prediction.png')\n",
        "\n",
        "inverted_image = PIL.ImageOps.invert(image.convert('RGB'))\n",
        "inverted_image.save('/content/random_prediction_inverted.png')"
      ],
      "execution_count": 83,
      "outputs": []
    },
    {
      "cell_type": "code",
      "metadata": {
        "id": "HUx9s5-18FKb"
      },
      "source": [
        "mage = Image.open('/content/random_prediction_t.png')\n",
        "\n",
        "inverted_image = PIL.ImageOps.invert(image.convert('RGB'))\n",
        "inverted_image.save('/content/random_prediction_t_inverted.png')"
      ],
      "execution_count": 86,
      "outputs": []
    },
    {
      "cell_type": "code",
      "metadata": {
        "colab": {
          "base_uri": "https://localhost:8080/",
          "height": 286
        },
        "id": "vz3h1__y7yid",
        "outputId": "a52c44e2-7416-4c00-ed20-89bd7bcde065"
      },
      "source": [
        "img = PIL.Image.open(\"/content/b13b027a-ce5d-11eb-b317-38f9d35ea60f.png\")\n",
        "gray_img = img.convert(\"L\")\n",
        "plt.imshow(gray_img, cmap='gray')"
      ],
      "execution_count": 84,
      "outputs": [
        {
          "output_type": "execute_result",
          "data": {
            "text/plain": [
              "<matplotlib.image.AxesImage at 0x7f863c727a10>"
            ]
          },
          "metadata": {
            "tags": []
          },
          "execution_count": 84
        },
        {
          "output_type": "display_data",
          "data": {
            "image/png": "[encoded data removed]",
            "text/plain": [
              "<Figure size 432x288 with 1 Axes>"
            ]
          },
          "metadata": {
            "tags": [],
            "needs_background": "light"
          }
        }
      ]
    },
    {
      "cell_type": "code",
      "metadata": {
        "colab": {
          "base_uri": "https://localhost:8080/",
          "height": 283
        },
        "id": "lA8F-9lI7-b2",
        "outputId": "5f2f7e75-8bce-41cf-ae21-aa0e869d5870"
      },
      "source": [
        "img = PIL.Image.open(\"/content/random_prediction_inverted.png\")\n",
        "gray_img = img.convert(\"L\")\n",
        "plt.imshow(gray_img, cmap='gray')"
      ],
      "execution_count": 85,
      "outputs": [
        {
          "output_type": "execute_result",
          "data": {
            "text/plain": [
              "<matplotlib.image.AxesImage at 0x7f863c550b50>"
            ]
          },
          "metadata": {
            "tags": []
          },
          "execution_count": 85
        },
        {
          "output_type": "display_data",
          "data": {
            "image/png": "[encoded data removed]",
            "text/plain": [
              "<Figure size 432x288 with 1 Axes>"
            ]
          },
          "metadata": {
            "tags": [],
            "needs_background": "light"
          }
        }
      ]
    },
    {
      "cell_type": "code",
      "metadata": {
        "colab": {
          "base_uri": "https://localhost:8080/",
          "height": 283
        },
        "id": "xO_07J0M8CGj",
        "outputId": "e00f172b-7579-4d09-cd5e-87739ad7950d"
      },
      "source": [
        "img = PIL.Image.open(\"/content/random_prediction_t_inverted.png\")\n",
        "gray_img = img.convert(\"L\")\n",
        "plt.imshow(gray_img, cmap='gray')"
      ],
      "execution_count": 87,
      "outputs": [
        {
          "output_type": "execute_result",
          "data": {
            "text/plain": [
              "<matplotlib.image.AxesImage at 0x7f863c4c8b90>"
            ]
          },
          "metadata": {
            "tags": []
          },
          "execution_count": 87
        },
        {
          "output_type": "display_data",
          "data": {
            "image/png": "[encoded data removed]",
            "text/plain": [
              "<Figure size 432x288 with 1 Axes>"
            ]
          },
          "metadata": {
            "tags": [],
            "needs_background": "light"
          }
        }
      ]
    }
  ]
}